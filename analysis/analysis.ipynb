{
 "cells": [
  {
   "cell_type": "code",
   "execution_count": 21,
   "metadata": {},
   "outputs": [],
   "source": [
    "import numpy as np \n",
    "import matplotlib.pyplot as plt\n",
    "import pandas as pd "
   ]
  },
  {
   "cell_type": "code",
   "execution_count": 22,
   "metadata": {},
   "outputs": [],
   "source": [
    "df = pd.read_csv(\"../build-debug/threads10.csv\")"
   ]
  },
  {
   "cell_type": "code",
   "execution_count": 23,
   "metadata": {},
   "outputs": [
    {
     "data": {
      "text/html": [
       "<div>\n",
       "<style scoped>\n",
       "    .dataframe tbody tr th:only-of-type {\n",
       "        vertical-align: middle;\n",
       "    }\n",
       "\n",
       "    .dataframe tbody tr th {\n",
       "        vertical-align: top;\n",
       "    }\n",
       "\n",
       "    .dataframe thead th {\n",
       "        text-align: right;\n",
       "    }\n",
       "</style>\n",
       "<table border=\"1\" class=\"dataframe\">\n",
       "  <thead>\n",
       "    <tr style=\"text-align: right;\">\n",
       "      <th></th>\n",
       "      <th>nQubits</th>\n",
       "      <th>opCount</th>\n",
       "      <th>precision</th>\n",
       "      <th>irregularity</th>\n",
       "      <th>nThreads</th>\n",
       "      <th>memSpd</th>\n",
       "    </tr>\n",
       "  </thead>\n",
       "  <tbody>\n",
       "    <tr>\n",
       "      <th>0</th>\n",
       "      <td>1</td>\n",
       "      <td>16</td>\n",
       "      <td>64</td>\n",
       "      <td>0</td>\n",
       "      <td>10</td>\n",
       "      <td>119.29370</td>\n",
       "    </tr>\n",
       "    <tr>\n",
       "      <th>1</th>\n",
       "      <td>1</td>\n",
       "      <td>16</td>\n",
       "      <td>64</td>\n",
       "      <td>1</td>\n",
       "      <td>10</td>\n",
       "      <td>118.53230</td>\n",
       "    </tr>\n",
       "    <tr>\n",
       "      <th>2</th>\n",
       "      <td>2</td>\n",
       "      <td>64</td>\n",
       "      <td>64</td>\n",
       "      <td>0</td>\n",
       "      <td>10</td>\n",
       "      <td>120.46680</td>\n",
       "    </tr>\n",
       "    <tr>\n",
       "      <th>3</th>\n",
       "      <td>2</td>\n",
       "      <td>64</td>\n",
       "      <td>64</td>\n",
       "      <td>1</td>\n",
       "      <td>10</td>\n",
       "      <td>119.85630</td>\n",
       "    </tr>\n",
       "    <tr>\n",
       "      <th>4</th>\n",
       "      <td>3</td>\n",
       "      <td>256</td>\n",
       "      <td>64</td>\n",
       "      <td>0</td>\n",
       "      <td>10</td>\n",
       "      <td>87.80578</td>\n",
       "    </tr>\n",
       "  </tbody>\n",
       "</table>\n",
       "</div>"
      ],
      "text/plain": [
       "   nQubits  opCount  precision  irregularity  nThreads     memSpd\n",
       "0        1       16         64             0        10  119.29370\n",
       "1        1       16         64             1        10  118.53230\n",
       "2        2       64         64             0        10  120.46680\n",
       "3        2       64         64             1        10  119.85630\n",
       "4        3      256         64             0        10   87.80578"
      ]
     },
     "execution_count": 23,
     "metadata": {},
     "output_type": "execute_result"
    }
   ],
   "source": [
    "df.head(5)"
   ]
  },
  {
   "cell_type": "code",
   "execution_count": 51,
   "metadata": {},
   "outputs": [
    {
     "data": {
      "text/plain": [
       "Text(0, 0.5, '1 / Mem Update Speed (GiBps)')"
      ]
     },
     "execution_count": 51,
     "metadata": {},
     "output_type": "execute_result"
    },
    {
     "data": {
      "image/png": "[encoded data removed]",
      "text/plain": [
       "<Figure size 600x400 with 1 Axes>"
      ]
     },
     "metadata": {},
     "output_type": "display_data"
    }
   ],
   "source": [
    "import matplotlib.patches as mpatches\n",
    "\n",
    "color_map = plt.get_cmap(\"viridis\")\n",
    "N = 6\n",
    "colors = [color_map(i / (N - 1)) for i in range(N)]\n",
    "\n",
    "fig = plt.figure(figsize=(6, 4))\n",
    "ax_main : plt.Axes = fig.add_axes([0, 0, 1.0, 1.0])\n",
    "# ax_legend : plt.Axes = fig.add_axes([0.8, 0.0, 0.2, 1.0])\n",
    "\n",
    "# ax_legend.axis(\"off\")\n",
    "\n",
    "ax_main.set_xscale(\"log\")\n",
    "ax_main.set_yscale('log')\n",
    "handles = []\n",
    "for nQubit in df['nQubits'].unique():\n",
    "  sub_df = df.query(\"nQubits == @nQubit\")\n",
    "  ax_main.scatter(sub_df[\"opCount\"], sub_df[\"memSpd\"] ** -1, color=colors[nQubit])\n",
    "  handles.append(mpatches.Patch(color=colors[nQubit], label=nQubit))\n",
    "\n",
    "ax_main.hlines(120.0 ** -1, *plt.xlim())\n",
    "\n",
    "ax_main.legend(handles=handles, title=\"num qubits\")\n",
    "ax_main.set_xlabel(\"Op Count\")\n",
    "ax_main.set_ylabel(\"1 / Mem Update Speed (GiBps)\")\n"
   ]
  },
  {
   "cell_type": "code",
   "execution_count": null,
   "metadata": {},
   "outputs": [],
   "source": []
  }
 ],
 "metadata": {
  "kernelspec": {
   "display_name": "python-venv",
   "language": "python",
   "name": "python3"
  },
  "language_info": {
   "codemirror_mode": {
    "name": "ipython",
    "version": 3
   },
   "file_extension": ".py",
   "mimetype": "text/x-python",
   "name": "python",
   "nbconvert_exporter": "python",
   "pygments_lexer": "ipython3",
   "version": "3.11.11"
  }
 },
 "nbformat": 4,
 "nbformat_minor": 2
}
